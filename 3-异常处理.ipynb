{
 "cells": [
  {
   "cell_type": "markdown",
   "metadata": {},
   "source": [
    "# 异常\n",
    "- 广义上的错误分为错误和异常\n",
    "- 错误指的是可以认为避免\n",
    "- 异常是指在语法逻辑正确的前提下，出现问题\n",
    "- 在python里，异常是一个类，可以处理和使用"
   ]
  },
  {
   "cell_type": "code",
   "execution_count": 1,
   "metadata": {},
   "outputs": [
    {
     "name": "stdout",
     "output_type": "stream",
     "text": [
      "Plz input your num:0\n"
     ]
    },
    {
     "ename": "ZeroDivisionError",
     "evalue": "division by zero",
     "traceback": [
      "\u001b[1;31m---------------------------------------------------------------------------\u001b[0m",
      "\u001b[1;31mZeroDivisionError\u001b[0m                         Traceback (most recent call last)",
      "\u001b[1;32m<ipython-input-1-c1869058bbde>\u001b[0m in \u001b[0;36m<module>\u001b[1;34m()\u001b[0m\n\u001b[0;32m      2\u001b[0m \u001b[1;31m# 常常犯的除零错误\u001b[0m\u001b[1;33m\u001b[0m\u001b[1;33m\u001b[0m\u001b[0m\n\u001b[0;32m      3\u001b[0m \u001b[0mnum\u001b[0m \u001b[1;33m=\u001b[0m \u001b[0mint\u001b[0m\u001b[1;33m(\u001b[0m\u001b[0minput\u001b[0m\u001b[1;33m(\u001b[0m\u001b[1;34m\"Plz input your num:\"\u001b[0m\u001b[1;33m)\u001b[0m\u001b[1;33m)\u001b[0m\u001b[1;33m\u001b[0m\u001b[0m\n\u001b[1;32m----> 4\u001b[1;33m \u001b[0mprint\u001b[0m\u001b[1;33m(\u001b[0m\u001b[1;36m100\u001b[0m\u001b[1;33m/\u001b[0m\u001b[0mnum\u001b[0m\u001b[1;33m)\u001b[0m\u001b[1;33m\u001b[0m\u001b[0m\n\u001b[0m",
      "\u001b[1;31mZeroDivisionError\u001b[0m: division by zero"
     ],
     "output_type": "error"
    }
   ],
   "source": [
    "l = [1,2,3,4,5]\n",
    "# 常常犯的除零错误\n",
    "num = int(input(\"Plz input your num:\"))\n",
    "print(100/num)"
   ]
  },
  {
   "cell_type": "markdown",
   "metadata": {},
   "source": [
    "# 异常处理\n",
    "- 不能保证程序永远正确运行\n",
    "- 但是，必须保证程序在最坏的情况下得到的问题妥善处理\n",
    "- python的异常处理模块全部语法为：\n",
    "    \n",
    "        try:\n",
    "            尝试实现某个操作，\n",
    "            如果没有异常，任务就可以完成\n",
    "            如果出现异常，将异常从当前到吗块扔出去尝试解决异常\n",
    "            \n",
    "        except 异常类型1：\n",
    "            解决方案：用于尝试在此处处理异常解决问题\n",
    "            \n",
    "        except 异常类型2:\n",
    "            解决方案2：用于尝试在此处处理异常解决问题\n",
    "\n",
    "        expect(异常类型1，异常类型2...)    \n",
    "                解决方案：正对多个异常使用相同的处理方式\n",
    "\n",
    "        expect:\n",
    "            解决方案：所有异常的解决方案\n",
    "        \n",
    "        else:        \n",
    "            如果没有出现任何异常，将会执行此处代码\n",
    "            \n",
    "        finally:\n",
    "            管你有没有异常都要执行的代码\n",
    "    \n",
    "- 流程\n",
    "    1. 执行try下面的语句\n",
    "    2. 如果出现异常，则在except语句里查找对应异常并进行处理\n",
    "    3. 如果没有异常出现，则执行else语句内容\n",
    "    4. 最后，不管是否出现异常，都要执行finally语句\n",
    "- 除except(最后一个)以外，else和finall可选"
   ]
  },
  {
   "cell_type": "code",
   "execution_count": 5,
   "metadata": {},
   "outputs": [
    {
     "name": "stdout",
     "output_type": "stream",
     "text": [
      "Plz input your number:0\n",
      "你输入的啥玩意\n"
     ]
    }
   ],
   "source": [
    "# 简单异常案例\n",
    "try:\n",
    "    num = int(input(\"Plz input your number:\"))\n",
    "    rst = 100/num\n",
    "    print(\"计算结果是：{0}\".format(rst))\n",
    "except:\n",
    "    print(\"你输入的啥玩意\")\n",
    "    # exit 是退出程序的意思\n",
    "    exit()\n",
    "    "
   ]
  },
  {
   "cell_type": "code",
   "execution_count": 1,
   "metadata": {},
   "outputs": [
    {
     "name": "stdout",
     "output_type": "stream",
     "text": [
      "Plz input your number:三大\n",
      "请输入与数字\n",
      "invalid literal for int() with base 10: '三大'\n",
      "hahahahaha\n"
     ]
    }
   ],
   "source": [
    "# 简单异常案例\n",
    "# 给出提示信息\n",
    "try:\n",
    "    num = int(input(\"Plz input your number:\"))\n",
    "    rst = 100/num\n",
    "    print(\"计算结果是：{0}\".format(rst))\n",
    "# 如果是多种error的情况\n",
    "# 需要把子类越具体的错误，越往前放\n",
    "# 在异常类继承关系中，越是子类的异常，越要往前放\n",
    "# 越是父亲类的异常，越要往后放\n",
    "\n",
    "# 在处理异常的时候，一旦拦截某一个异常，则不再继续往下查看，直接进行下一个\n",
    "# 代码，即有finally则执行finally语句块，否则就执行下一个大的语句\n",
    "except ZeroDivisionError as e:\n",
    "    print(\"你输入的啥玩意\")\n",
    "    print(e)\n",
    "    # exit 是退出程序的意思\n",
    "    exit()\n",
    "except NameError as e:\n",
    "    print(\"名字起错了\")\n",
    "    print(e)\n",
    "    exit()\n",
    "except AttributeError as e:\n",
    "    print(\"好像属性有问题\")\n",
    "    print(e)\n",
    "    exit()\n",
    "except ValueError as e:\n",
    "    print(\"请输入与数字\")\n",
    "    print(e)\n",
    "    exit()\n",
    "# 所有异常都继承自Exception    \n",
    "# 如果写上下面这句话，任何异常都会拦截住\n",
    "# 而且，下面这句话一定是最后一个exception\n",
    "except Exception as e:\n",
    "    print(\"我一不知道错在哪里\")\n",
    "    print(e)\n",
    "    exit()    \n",
    "print(\"hahahahaha\")"
   ]
  },
  {
   "cell_type": "markdown",
   "metadata": {},
   "source": [
    "# 用户手动引发的异常\n",
    "- 当某些情况，用户希望自己引发一个异常的时候，可以使用\n",
    "- raise关键字来引发"
   ]
  },
  {
   "cell_type": "code",
   "execution_count": 7,
   "metadata": {},
   "outputs": [
    {
     "name": "stdout",
     "output_type": "stream",
     "text": [
      "问问\n",
      "3.1415\n",
      "ValueError\n",
      "我肯定会被执行的\n"
     ]
    }
   ],
   "source": [
    "# raise案例 -1\n",
    "try:\n",
    "    print(\"问问\")\n",
    "    print(3.1415)\n",
    "    # 手动引发一个异常\n",
    "    # 注意语法：raise ErroClassName\n",
    "    raise ValueError\n",
    "    print(\"还没有玩\")\n",
    "except NameError as e:\n",
    "    print(\"NameError\")\n",
    "except ValueError as e:\n",
    "    print(\"ValueError\")\n",
    "except Exception as e:\n",
    "    print(\"有异常\")\n",
    "finally:\n",
    "    print(\"我肯定会被执行的\")"
   ]
  },
  {
   "cell_type": "code",
   "execution_count": 8,
   "metadata": {},
   "outputs": [
    {
     "name": "stdout",
     "output_type": "stream",
     "text": [
      "问问\n",
      "3.1415\n",
      "DaNaError\n",
      "我肯定会被执行的\n"
     ]
    }
   ],
   "source": [
    "# raise案例 -2\n",
    "# 自己定义异常\n",
    "# 需要注意：自定义异常必须是系统异常的子类\n",
    "class DaNaValueError(ValueError):\n",
    "    pass\n",
    "\n",
    "try:\n",
    "    print(\"问问\")\n",
    "    print(3.1415)\n",
    "    # 手动引发一个异常\n",
    "    # 注意语法：raise ErroClassName\n",
    "    raise DaNaValueError\n",
    "    print(\"还没有玩\")\n",
    "except NameError as e:\n",
    "    print(\"NameError\")\n",
    "except DaNaValueError as e:\n",
    "    print(\"DaNaError\")\n",
    "except ValueError as e:\n",
    "    print(\"ValueError\")\n",
    "except Exception as e:\n",
    "    print(\"有异常\")\n",
    "finally:\n",
    "    print(\"我肯定会被执行的\")"
   ]
  },
  {
   "cell_type": "code",
   "execution_count": 9,
   "metadata": {},
   "outputs": [
    {
     "name": "stdout",
     "output_type": "stream",
     "text": [
      "Plz input your number:9\n",
      "计算结果是：11.11111111111111\n",
      "No Exception\n",
      "反正我会被执行\n"
     ]
    }
   ],
   "source": [
    "# else语句案例\n",
    "try:\n",
    "    num = int(input(\"Plz input your number:\"))\n",
    "    rst = 100/num\n",
    "    print(\"计算结果是：{0}\".format(rst))\n",
    "except Exception as e:\n",
    "    print(\"Exception\")\n",
    "else:\n",
    "    print(\"No Exception\")\n",
    "finally:\n",
    "    print(\"反正我会被执行\")"
   ]
  },
  {
   "cell_type": "markdown",
   "metadata": {},
   "source": [
    "# 关于自定义异常\n",
    "- 只要是raise异常，则推荐自定义异常\n",
    "- 在自定义异常的时候，一般包含以下内容：\n",
    "    - 自定义发生异常的异常代码\n",
    "    - 自定义发生异常后的问题提示\n",
    "    - 自定义发生异常的行数\n",
    "- 最终的目的是，一旦发送异常，方便程序员快速定位错误现场    "
   ]
  },
  {
   "cell_type": "code",
   "execution_count": null,
   "metadata": {},
   "outputs": [],
   "source": []
  }
 ],
 "metadata": {
  "kernelspec": {
   "display_name": "Python 3",
   "language": "python",
   "name": "python3"
  },
  "language_info": {
   "codemirror_mode": {
    "name": "ipython",
    "version": 3
   },
   "file_extension": ".py",
   "mimetype": "text/x-python",
   "name": "python",
   "nbconvert_exporter": "python",
   "pygments_lexer": "ipython3",
   "version": "3.6.5"
  }
 },
 "nbformat": 4,
 "nbformat_minor": 2
}
