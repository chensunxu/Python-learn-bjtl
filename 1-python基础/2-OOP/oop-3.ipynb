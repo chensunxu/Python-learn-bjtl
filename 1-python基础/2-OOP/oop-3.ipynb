{
 "cells": [
  {
   "cell_type": "code",
   "execution_count": 31,
   "metadata": {},
   "outputs": [
    {
     "name": "stdout",
     "output_type": "stream",
     "text": [
      "Working......\n",
      "I am yueyue\n",
      "I am flying\n",
      "i am swimming......\n"
     ]
    }
   ],
   "source": [
    "# 多继承的例子\n",
    "# 子类可以直接拥有父类的属性和方法，私有属性和方法除外\n",
    "class Fish():\n",
    "    def __init__(self,name):\n",
    "        self.name = name\n",
    "    def swim(self):\n",
    "        print(\"i am swimming......\")\n",
    "class Bird():\n",
    "    def __init__(self,name):\n",
    "        self.name = name\n",
    "    def fly(self):\n",
    "        print(\"I am flying\")\n",
    "class Person():\n",
    "    def __init__(self,name):\n",
    "        self.name = name\n",
    "    def work(self):\n",
    "        print(\"Working......\")\n",
    "class SuperMan(Person,Bird,Fish):\n",
    "     def __init__(self,name):\n",
    "        self.name = name\n",
    "        print(\"I am {0}\".format(name))\n",
    "\n",
    "# 单继承的例子\n",
    "class Student(Person):\n",
    "    def __init__(self,name):\n",
    "        self.name = name\n",
    "stu = Student(\"yueyue\")    \n",
    "stu.work()\n",
    "\n",
    "# 多继承的例子\n",
    "class SwimMan(Person,Fish):\n",
    "    def __init__(self,name):\n",
    "        self.name = name\n",
    "        \n",
    "s = SuperMan(\"yueyue\")\n",
    "s.fly()\n",
    "s.swim()"
   ]
  },
  {
   "cell_type": "code",
   "execution_count": 25,
   "metadata": {},
   "outputs": [],
   "source": [
    "# 菱形继承问题\n",
    "class A():\n",
    "    pass\n",
    "class B(A):\n",
    "    pass\n",
    "class C(A):\n",
    "    pass\n",
    "\n",
    "class D(B,C):\n",
    "    pass"
   ]
  },
  {
   "cell_type": "code",
   "execution_count": 30,
   "metadata": {},
   "outputs": [],
   "source": [
    "# 构造函数例子 -1\n",
    "class Person():\n",
    "    # 对Person类进行实例化的时候\n",
    "    # 姓名要确定\n",
    "    # 年龄得确定\n",
    "    # 地址肯定有\n",
    "    def __init__(self):\n",
    "        self.name = \"NoName\"\n",
    "        self.age = 18\n",
    "        self.address = \"Studentwhonheim\"\n",
    "    pass\n",
    "# 实例化一个人\n",
    "p = Person()\n"
   ]
  },
  {
   "cell_type": "code",
   "execution_count": 50,
   "metadata": {},
   "outputs": [
    {
     "name": "stdout",
     "output_type": "stream",
     "text": [
      "B\n",
      "我是C\n",
      "设置C中附加的功能\n"
     ]
    }
   ],
   "source": [
    "# 构造函数的调用顺序 -2\n",
    "# 如果子类没有写构造函数，则自动向上查找，直到找到位置\n",
    "class A():\n",
    "    def __init__(self):\n",
    "        print(\"A\")\n",
    "class B(A):\n",
    "    def __init__(self,name):\n",
    "        print(\"B\")\n",
    "        print(name)\n",
    "class C(B):\n",
    "    # c中想扩展B的构造函数\n",
    "    # 即调用B的构造函数后添加一些功能\n",
    "    # 由两种方法实现\n",
    "    '''    \n",
    "    # 第一种是通过父类名调用\n",
    "    def __init__(self,name):\n",
    "        B.__init__(self,name)\n",
    "        print(\"这是C种附加的功能\")\n",
    "    '''\n",
    "    # 第二种，使用super调用\n",
    "    def __init__(self,name):\n",
    "        #  首先调用父类的构造函数\n",
    "        super(C,self).__init__(name)\n",
    "        # 其次，在增加自己的功能\n",
    "        print(\"设置C中附加的功能\")\n",
    "# 此时，首先查找C的构造函数\n",
    "# 如果没有，则向上按照MRO顺序查找父类的构造函数，直到找到为止\n",
    "# 此时，会出现参数结构不对应错误\n",
    "c = C(\"我是C\")\n"
   ]
  },
  {
   "cell_type": "code",
   "execution_count": 62,
   "metadata": {},
   "outputs": [
    {
     "name": "stdout",
     "output_type": "stream",
     "text": [
      "(<class '__main__.Tutor'>, <class '__main__.Teacher'>, <class '__main__.Student'>, <class '__main__.Person'>, <class 'object'>)\n",
      "{}\n",
      "{'__module__': '__main__', '__doc__': None}\n",
      "********************\n",
      "(<class '__main__.TutorM'>, <class '__main__.Person'>, <class '__main__.TeacherMixin'>, <class '__main__.StudentMixin'>, <class 'object'>)\n",
      "{}\n",
      "{'__module__': '__main__', '__doc__': None}\n"
     ]
    }
   ],
   "source": [
    "# Mixin案例\n",
    "class Person():\n",
    "    name = \"liuying\"\n",
    "    age = 18\n",
    "    def eat(self):\n",
    "        print(\"eat......\")\n",
    "    def drink(self):\n",
    "        print(\"drink......\")\n",
    "    def sleep(self):\n",
    "        print(\"sleep......\")\n",
    "class Teacher(Person):\n",
    "    def work(self):\n",
    "        print(\"work\")\n",
    "class Student(Person):\n",
    "    def studey(self):\n",
    "        print(\"Study\")\n",
    "\n",
    "class Tutor(Teacher,Student):\n",
    "    pass\n",
    "t = Tutor()\n",
    "print(Tutor.__mro__)\n",
    "print(t.__dict__)\n",
    "print(Tutor.__dict__)\n",
    "\n",
    "print(\"*\"*20)\n",
    "class TeacherMixin():\n",
    "    def work(self):\n",
    "        print(\"work\")\n",
    "class StudentMixin():\n",
    "    def studey(self):\n",
    "        print(\"studey\")\n",
    "class TutorM(Person,TeacherMixin,StudentMixin):\n",
    "    pass\n",
    "tt = TutorM()\n",
    "print(TutorM.__mro__)\n",
    "print(tt.__dict__)\n",
    "print(TutorM.__dict__)"
   ]
  },
  {
   "cell_type": "code",
   "execution_count": 67,
   "metadata": {},
   "outputs": [
    {
     "name": "stdout",
     "output_type": "stream",
     "text": [
      "True\n",
      "True\n"
     ]
    }
   ],
   "source": [
    "# issubclass\n",
    "class A():\n",
    "    pass\n",
    "class B(A):\n",
    "    pass\n",
    "class C():\n",
    "    pass\n",
    "print(issubclass(B,A))\n",
    "print(issubclass(A,A))"
   ]
  },
  {
   "cell_type": "code",
   "execution_count": 68,
   "metadata": {},
   "outputs": [
    {
     "name": "stdout",
     "output_type": "stream",
     "text": [
      "True\n",
      "False\n"
     ]
    }
   ],
   "source": [
    "# hasattr\n",
    "class A():\n",
    "    name = \"NoName\"\n",
    "a = A()\n",
    "print(hasattr(a,\"name\"))\n",
    "print(hasattr(a,\"age\"))"
   ]
  },
  {
   "cell_type": "code",
   "execution_count": 69,
   "metadata": {},
   "outputs": [
    {
     "name": "stdout",
     "output_type": "stream",
     "text": [
      "Help on built-in function setattr in module builtins:\n",
      "\n",
      "setattr(obj, name, value, /)\n",
      "    Sets the named attribute on the given object to the specified value.\n",
      "    \n",
      "    setattr(x, 'y', v) is equivalent to ``x.y = v''\n",
      "\n"
     ]
    }
   ],
   "source": [
    "# help案例\n",
    "# 我想知道setattr的具体用法\n",
    "help(setattr)"
   ]
  },
  {
   "cell_type": "code",
   "execution_count": null,
   "metadata": {},
   "outputs": [],
   "source": []
  }
 ],
 "metadata": {
  "kernelspec": {
   "display_name": "Python 3",
   "language": "python",
   "name": "python3"
  },
  "language_info": {
   "codemirror_mode": {
    "name": "ipython",
    "version": 3
   },
   "file_extension": ".py",
   "mimetype": "text/x-python",
   "name": "python",
   "nbconvert_exporter": "python",
   "pygments_lexer": "ipython3",
   "version": "3.6.5"
  }
 },
 "nbformat": 4,
 "nbformat_minor": 2
}
