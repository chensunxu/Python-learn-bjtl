{
 "cells": [
  {
   "cell_type": "markdown",
   "metadata": {},
   "source": [
    "# 常用模块\n",
    "- calendar\n",
    "- time\n",
    "- datetime\n",
    "- os\n",
    "- shtil\n",
    "- zip\n",
    "- math\n",
    "- string\n",
    "- 上述所有模块使用理论上都应该先导入，string的特例\n",
    "- calendar,time,datetime的区别参考中文意思"
   ]
  },
  {
   "cell_type": "markdown",
   "metadata": {},
   "source": [
    "# calendar\n",
    "- 跟日历相关的模块"
   ]
  },
  {
   "cell_type": "code",
   "execution_count": 16,
   "metadata": {},
   "outputs": [],
   "source": [
    "# 使用需要先导入\n",
    "import calendar"
   ]
  },
  {
   "cell_type": "code",
   "execution_count": 17,
   "metadata": {},
   "outputs": [
    {
     "name": "stdout",
     "output_type": "stream",
     "text": [
      "<class 'str'>\n"
     ]
    }
   ],
   "source": [
    "# calendar:获取一年的日历字符串\n",
    "# 参数\n",
    "# w = 每个日期之前的间隔字符数\n",
    "# l = 每周所占的行数\n",
    "# c = 每个月之间的间隔字符数\n",
    "cal = calendar.calendar(2017)\n",
    "print(type(cal))"
   ]
  },
  {
   "cell_type": "code",
   "execution_count": 18,
   "metadata": {},
   "outputs": [],
   "source": [
    "cal = calendar.calendar(2017,l=0,c=5)\n",
    "# print(cal)"
   ]
  },
  {
   "cell_type": "code",
   "execution_count": 19,
   "metadata": {},
   "outputs": [
    {
     "data": {
      "text/plain": [
       "True"
      ]
     },
     "execution_count": 19,
     "metadata": {},
     "output_type": "execute_result"
    }
   ],
   "source": [
    "# isleap: 判断某一年是否闰年\n",
    "calendar.isleap(2000)"
   ]
  },
  {
   "cell_type": "code",
   "execution_count": 20,
   "metadata": {},
   "outputs": [
    {
     "data": {
      "text/plain": [
       "5"
      ]
     },
     "execution_count": 20,
     "metadata": {},
     "output_type": "execute_result"
    }
   ],
   "source": [
    "# leapdays:获取指定年份之间的闰年的个数\n",
    "calendar.leapdays(1998,2018)"
   ]
  },
  {
   "cell_type": "code",
   "execution_count": 21,
   "metadata": {},
   "outputs": [
    {
     "name": "stdout",
     "output_type": "stream",
     "text": [
      "     March 2018\n",
      "Mo Tu We Th Fr Sa Su\n",
      "          1  2  3  4\n",
      " 5  6  7  8  9 10 11\n",
      "12 13 14 15 16 17 18\n",
      "19 20 21 22 23 24 25\n",
      "26 27 28 29 30 31\n",
      "\n"
     ]
    }
   ],
   "source": [
    "# moth() 获取某个月的日历字符串\n",
    "# 格式：calendar.month(年，月)\n",
    "# 回值，月日历的字符串\n",
    "m3 = calendar.month(2018,3)\n",
    "print(m3)"
   ]
  },
  {
   "cell_type": "code",
   "execution_count": 22,
   "metadata": {},
   "outputs": [
    {
     "name": "stdout",
     "output_type": "stream",
     "text": [
      "0\n",
      "31\n"
     ]
    }
   ],
   "source": [
    "# monthrange()获取一个月的周几开始即和天数\n",
    "# 格式：calendar.monthrange(年，月)\n",
    "# 回值，元组(周几开始，总天数)\n",
    "# 注意：周默认0-6表示周一到周天\n",
    "w,t = calendar.monthrange(2018,10)\n",
    "print(w)\n",
    "print(t)"
   ]
  },
  {
   "cell_type": "code",
   "execution_count": 23,
   "metadata": {},
   "outputs": [
    {
     "name": "stdout",
     "output_type": "stream",
     "text": [
      "<class 'list'>\n",
      "[[0, 0, 0, 1, 2, 3, 4], [5, 6, 7, 8, 9, 10, 11], [12, 13, 14, 15, 16, 17, 18], [19, 20, 21, 22, 23, 24, 25], [26, 27, 28, 29, 30, 31, 0]]\n"
     ]
    }
   ],
   "source": [
    "# monthcalendar()返回一个月的矩阵列表\n",
    "# 格式：calendar.monthcalendar(年，月)\n",
    "# 回值：二级列表\n",
    "# 注意：矩阵中没有天数用0表示\n",
    "m = calendar.monthcalendar(2018,3)\n",
    "print(type(m))\n",
    "print(m)"
   ]
  },
  {
   "cell_type": "code",
   "execution_count": 24,
   "metadata": {},
   "outputs": [
    {
     "name": "stdout",
     "output_type": "stream",
     "text": [
      "Help on method pryear in module calendar:\n",
      "\n",
      "pryear(theyear, w=0, l=0, c=6, m=3) method of calendar.TextCalendar instance\n",
      "    Print a year's calendar.\n",
      "\n"
     ]
    }
   ],
   "source": [
    "# prcal：print calendar 直接打印日历\n",
    "# calendar.prcal(2018)\n",
    "help(calendar.prcal)"
   ]
  },
  {
   "cell_type": "code",
   "execution_count": 25,
   "metadata": {},
   "outputs": [
    {
     "name": "stdout",
     "output_type": "stream",
     "text": [
      "     March 2018\n",
      "Mo Tu We Th Fr Sa Su\n",
      "          1  2  3  4\n",
      " 5  6  7  8  9 10 11\n",
      "12 13 14 15 16 17 18\n",
      "19 20 21 22 23 24 25\n",
      "26 27 28 29 30 31\n"
     ]
    }
   ],
   "source": [
    "# prmonth()直接打印整个月的日历\n",
    "# 格式：calendar.prmonth(年，月)\n",
    "# 返回值：无\n",
    "calendar.prmonth(2018,3)"
   ]
  },
  {
   "cell_type": "code",
   "execution_count": 26,
   "metadata": {},
   "outputs": [
    {
     "data": {
      "text/plain": [
       "1"
      ]
     },
     "execution_count": 26,
     "metadata": {},
     "output_type": "execute_result"
    }
   ],
   "source": [
    "# weekday() 获取周几\n",
    "# 格式：calendar.weekday(年，月，日)\n",
    "# 返回值：周几对应的数字\n",
    "calendar.weekday(2018,10,23)"
   ]
  },
  {
   "cell_type": "markdown",
   "metadata": {},
   "source": [
    "# time模块\n",
    "### 时间戳\n",
    "    - 一个时间表示，根据不同语言，可以是整数或者浮点数\n",
    "    - 是从1970年1月1日0时0分0秒到现在经历的秒数\n",
    "    - 如果表示的时间是1970年以前或者太遥远的未来，可能出现异常\n",
    "    - 32操作系统能够支持到2038年\n",
    "    \n",
    "### UTC时间    \n",
    "    - UTC又称为世界协调时间，以英国的格林尼治天文坐在地区的时间作为参考时间，也叫做世界标准时间。\n",
    "    - 中国时间是 UTC+8 东八区\n",
    "    \n",
    "### 夏令时\n",
    "    -夏令时就是在夏天的时候将时间调快一小时，本意是督促大家早睡早起节省蜡烛！每天变成25个小时，本地没变还是24小时\n",
    "    \n",
    "### 时间元组\n",
    "    - 一个包含时间内容的普通元组\n",
    "    \n",
    "    索引      内容    属性            值\n",
    "\n",
    "    0       年       tm_year     2015\n",
    "    1       月       tm_mon      1～12\n",
    "    2       日       tm_mday     1～31\n",
    "    3       时       tm_hour     0～23\n",
    "    4       分       tm_min      0～59\n",
    "    5       秒       tm_sec      0～61  60表示闰秒  61保留值\n",
    "    6       周几     tm_wday     0～6\n",
    "    7       第几天    tm_yday     1～366\n",
    "    8       夏令时    tm_isdst    0，1，-1（表示夏令时）"
   ]
  },
  {
   "cell_type": "code",
   "execution_count": 27,
   "metadata": {},
   "outputs": [],
   "source": [
    "# 需要单独导入\n",
    "import time"
   ]
  },
  {
   "cell_type": "code",
   "execution_count": 28,
   "metadata": {},
   "outputs": [
    {
     "name": "stdout",
     "output_type": "stream",
     "text": [
      "-28800\n",
      "-32400\n",
      "0\n"
     ]
    }
   ],
   "source": [
    "# 时间模块的属性\n",
    "# timezone：当前时区和UTC时间相差的秒数，在没有夏令时的情况下的间隔\n",
    "# altzone：获取当前时区于UTC时间相差的秒数，在有夏令时的情况下，\n",
    "# daylight：测当前是否夏令时时间状态，0表示是\n",
    "print(time.timezone)\n",
    "print(time.altzone)\n",
    "print(time.daylight)"
   ]
  },
  {
   "cell_type": "code",
   "execution_count": 29,
   "metadata": {},
   "outputs": [
    {
     "data": {
      "text/plain": [
       "1540350790.2883828"
      ]
     },
     "execution_count": 29,
     "metadata": {},
     "output_type": "execute_result"
    }
   ],
   "source": [
    "# 得到时间戳\n",
    "time.time()"
   ]
  },
  {
   "cell_type": "code",
   "execution_count": 30,
   "metadata": {},
   "outputs": [
    {
     "name": "stdout",
     "output_type": "stream",
     "text": [
      "time.struct_time(tm_year=2018, tm_mon=10, tm_mday=24, tm_hour=11, tm_min=13, tm_sec=10, tm_wday=2, tm_yday=297, tm_isdst=0)\n"
     ]
    }
   ],
   "source": [
    "# localtime,得到当前时间的时间结构\n",
    "# 可以通过点号操作符得到相应的属性元素的内容\n",
    "t = time.localtime()\n",
    "print(t)"
   ]
  },
  {
   "cell_type": "code",
   "execution_count": 31,
   "metadata": {},
   "outputs": [
    {
     "name": "stdout",
     "output_type": "stream",
     "text": [
      "<class 'str'>\n",
      "Wed Oct 24 11:13:11 2018\n"
     ]
    }
   ],
   "source": [
    "# asctime() 返回元组的正常字符串化之后的时间格式\n",
    "# 格式:time.asctime（时间元组）\n",
    "# 返回值：字符串 Tue Jun 6 11:11:00 2017 \n",
    "t = time.localtime()\n",
    "\n",
    "tt = time.asctime(t)\n",
    "print(type(tt))\n",
    "print(tt)"
   ]
  },
  {
   "cell_type": "code",
   "execution_count": 32,
   "metadata": {},
   "outputs": [
    {
     "name": "stdout",
     "output_type": "stream",
     "text": [
      "<class 'str'>\n",
      "Wed Oct 24 11:13:14 2018\n"
     ]
    }
   ],
   "source": [
    "# ctime：获取字符串化的当前时间\n",
    "t = time.ctime()\n",
    "print(type(t))\n",
    "print(t)"
   ]
  },
  {
   "cell_type": "code",
   "execution_count": 33,
   "metadata": {},
   "outputs": [
    {
     "name": "stdout",
     "output_type": "stream",
     "text": [
      "<class 'float'>\n",
      "1540350794.0\n"
     ]
    }
   ],
   "source": [
    "# mktime() 使用时间元组获取对应的时间戳\n",
    "# 格式：time.mktime(时间元组)\n",
    "# 返回值：浮点数时间戳\n",
    " \n",
    "lt = time.localtime()\n",
    "ts = time.mktime(lt)\n",
    "print(type(ts))\n",
    "print(ts)"
   ]
  },
  {
   "cell_type": "code",
   "execution_count": 34,
   "metadata": {},
   "outputs": [],
   "source": [
    "# clock：获取cput时间 2.0-3.3版本直接使用,3.6版本有问题"
   ]
  },
  {
   "cell_type": "code",
   "execution_count": 35,
   "metadata": {},
   "outputs": [
    {
     "name": "stdout",
     "output_type": "stream",
     "text": [
      "0\n",
      "1\n",
      "2\n",
      "3\n",
      "4\n",
      "5\n",
      "6\n",
      "7\n",
      "8\n",
      "9\n"
     ]
    }
   ],
   "source": [
    "# sleep：使程序进入睡眠，n秒后继续\n",
    "\n",
    "for i in range(10):\n",
    "    print(i)\n",
    "    time.sleep(1)"
   ]
  },
  {
   "cell_type": "code",
   "execution_count": 36,
   "metadata": {},
   "outputs": [
    {
     "name": "stdout",
     "output_type": "stream",
     "text": [
      "2.504248541498514\n"
     ]
    }
   ],
   "source": [
    "def p():\n",
    "    time.sleep(2.5)\n",
    "t0 = time.clock()\n",
    "p()\n",
    "t1 = time.clock()\n",
    "\n",
    "print(t1 - t0)"
   ]
  },
  {
   "cell_type": "code",
   "execution_count": 37,
   "metadata": {},
   "outputs": [
    {
     "name": "stdout",
     "output_type": "stream",
     "text": [
      "2018-10-24 11:13\n"
     ]
    }
   ],
   "source": [
    "# strftime：将时间元组转化为自定义的字符串格式\n",
    "# '''\n",
    "# 格式  含义  备注\n",
    "# %a  本地（locale）简化星期名称    \n",
    "# %A  本地完整星期名称    \n",
    "# %b  本地简化月份名称    \n",
    "# %B  本地完整月份名称    \n",
    "# %c  本地相应的日期和时间表示    \n",
    "# %d  一个月中的第几天（01 - 31）   \n",
    "# %H  一天中的第几个小时（24 小时制，00 - 23）   \n",
    "# %I  一天中的第几个小时（12 小时制，01 - 12）   \n",
    "# %j  一年中的第几天（001 - 366）  \n",
    "# %m  月份（01 - 12） \n",
    "# %M  分钟数（00 - 59）    \n",
    "# %p  本地 am 或者 pm 的相应符    注1\n",
    "# %S  秒（01 - 61）  注2\n",
    "# %U  一年中的星期数（00 - 53 星期天是一个星期的开始）第一个星期天之前的所有天数都放在第 0 周   注3\n",
    "# %w  一个星期中的第几天（0 - 6，0 是星期天） 注3\n",
    "# %W  和 %U 基本相同，不同的是 %W 以星期一为一个星期的开始  \n",
    "# %x  本地相应日期  \n",
    "# %X  本地相应时间  \n",
    "# %y  去掉世纪的年份（00 - 99）    \n",
    "# %Y  完整的年份   \n",
    "# %z  用 +HHMM 或 -HHMM 表示距离格林威治的时区偏移（H 代表十进制的小时数，M 代表十进制的分钟数）      \n",
    "# %%  %号本身\n",
    "# '''\n",
    "# 把时间表示成，2018年3月26日 21:05\n",
    "t = time.localtime()\n",
    "ft = time.strftime(\"%Y-%m-%d %H:%M\",t)\n",
    "print(ft)\n"
   ]
  },
  {
   "cell_type": "markdown",
   "metadata": {},
   "source": [
    "# datetime模块\n",
    "- datetime提供日期和时间的运算和表示"
   ]
  },
  {
   "cell_type": "code",
   "execution_count": 44,
   "metadata": {},
   "outputs": [],
   "source": [
    "import datetime"
   ]
  },
  {
   "cell_type": "code",
   "execution_count": 45,
   "metadata": {},
   "outputs": [
    {
     "name": "stdout",
     "output_type": "stream",
     "text": [
      "2018-03-26\n",
      "26\n",
      "2018\n",
      "3\n"
     ]
    }
   ],
   "source": [
    "# datetime常见属性\n",
    "# datatime.date:一个理想的日期，提供year,month,day属性\n",
    "dt = datetime.date(2018, 3, 26)\n",
    "print(dt)\n",
    "print(dt.day)\n",
    "print(dt.year)\n",
    "print(dt.month)\n",
    "\n",
    "# datetime.time:提供一个理想和时间，居于hour,minute,sec,microce等\n",
    "# datetime.datetime:提供日期和跟时间的组合\n",
    "# datetime.timedelta:提供一个时间差，时间长度"
   ]
  },
  {
   "cell_type": "code",
   "execution_count": 55,
   "metadata": {},
   "outputs": [
    {
     "name": "stdout",
     "output_type": "stream",
     "text": [
      "2018-10-24 11:45:13.742398\n",
      "2018-10-24 11:45:13.742398\n",
      "2018-10-24 11:45:13.742398\n"
     ]
    }
   ],
   "source": [
    "# datetime.datetime\n",
    "from datetime import datetime\n",
    "# 常用类方法\n",
    "# today:\n",
    "# now:\n",
    "# utcnow\n",
    "# fromtimestamp:从时间戳中返回本地时间\n",
    "dt = datetime(2018,3,26)\n",
    "print(dt.today())\n",
    "print(dt.now())\n",
    "\n",
    "print(dt.fromtimestamp(time.time()))"
   ]
  },
  {
   "cell_type": "code",
   "execution_count": 52,
   "metadata": {},
   "outputs": [
    {
     "name": "stdout",
     "output_type": "stream",
     "text": [
      "2018-10-24 11:42:58\n",
      "2018-10-24 12:42:58\n"
     ]
    }
   ],
   "source": [
    "# datetime.timedelta\n",
    "# 表示一个时间间隔\n",
    "\n",
    "from datetime import datetime,timedelta\n",
    "t1 = datetime.now()\n",
    "print(t1.strftime(\"%Y-%m-%d %H:%M:%S\"))\n",
    "# td表示一小时的时间长度\n",
    "td = timedelta(hours=1)\n",
    "# 当前时间加上时间间隔后，把得到的一个小时后的时间格式化输出\n",
    "print((t1+td).strftime(\"%Y-%m-%d %H:%M:%S\"))"
   ]
  },
  {
   "cell_type": "code",
   "execution_count": 58,
   "metadata": {},
   "outputs": [
    {
     "name": "stdout",
     "output_type": "stream",
     "text": [
      "3.600205898284912\n"
     ]
    }
   ],
   "source": [
    "# timeit-时间测量工具\n",
    "\n",
    "# 测量程序运行时间间隔实验\n",
    "def p():\n",
    "    time.sleep(3.6)\n",
    "t1 = time.time()\n",
    "p()\n",
    "\n",
    "print(time.time() - t1)"
   ]
  },
  {
   "cell_type": "code",
   "execution_count": 59,
   "metadata": {},
   "outputs": [
    {
     "ename": "NameError",
     "evalue": "name 'timeit' is not defined",
     "output_type": "error",
     "traceback": [
      "\u001b[1;31m---------------------------------------------------------------------------\u001b[0m",
      "\u001b[1;31mNameError\u001b[0m                                 Traceback (most recent call last)",
      "\u001b[1;32m<ipython-input-59-1b44e24cf2c6>\u001b[0m in \u001b[0;36m<module>\u001b[1;34m()\u001b[0m\n\u001b[0;32m      7\u001b[0m '''\n\u001b[0;32m      8\u001b[0m \u001b[1;33m\u001b[0m\u001b[0m\n\u001b[1;32m----> 9\u001b[1;33m \u001b[0mt\u001b[0m \u001b[1;33m=\u001b[0m \u001b[0mtimeit\u001b[0m\u001b[1;33m.\u001b[0m\u001b[0mtimeit\u001b[0m\u001b[1;33m(\u001b[0m\u001b[0mstml\u001b[0m \u001b[1;33m=\u001b[0m \u001b[1;34m\"[i for i in range(1000)]\"\u001b[0m\u001b[1;33m,\u001b[0m\u001b[0mnumber\u001b[0m \u001b[1;33m=\u001b[0m \u001b[1;36m10000\u001b[0m\u001b[1;33m)\u001b[0m\u001b[1;33m\u001b[0m\u001b[0m\n\u001b[0m",
      "\u001b[1;31mNameError\u001b[0m: name 'timeit' is not defined"
     ]
    }
   ],
   "source": [
    "# 生成列表两种方法的比较\n",
    "# 如果单纯笔记生成一个列表的时间，可能很难实现\n",
    "c = '''\n",
    "sum = []\n",
    "for i in range(1000):\n",
    "    sum.append(i)\n",
    "'''\n",
    "\n",
    "t = timeit.timeit(stml = \"[i for i in range(1000)]\",number = 10000)"
   ]
  },
  {
   "cell_type": "code",
   "execution_count": null,
   "metadata": {},
   "outputs": [],
   "source": []
  }
 ],
 "metadata": {
  "kernelspec": {
   "display_name": "Python 3",
   "language": "python",
   "name": "python3"
  },
  "language_info": {
   "codemirror_mode": {
    "name": "ipython",
    "version": 3
   },
   "file_extension": ".py",
   "mimetype": "text/x-python",
   "name": "python",
   "nbconvert_exporter": "python",
   "pygments_lexer": "ipython3",
   "version": "3.6.5"
  }
 },
 "nbformat": 4,
 "nbformat_minor": 2
}
