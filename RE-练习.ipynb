{
 "cells": [
  {
   "cell_type": "markdown",
   "metadata": {},
   "source": [
    "# RE使用大操作\n",
    "1. 使用compile将表示正则的字符串编译为一个pattern对象\n",
    "2. 通过pattern对象提供一系列方法对文本进行查找匹配，获得匹配结果，一个Match对象\n",
    "- 最后使用Match对象提供的属性和方法获得信息，根据需要进行操作\n",
    "\n",
    "# RE常用函数\n",
    "- group():获得一个或者多个分组匹配的字符串，当要获得整个匹配的字符串时，直接使用gourp或者goup(0)\n",
    "- start:获取分组匹配的字串在整个字符串中的起始位置，参数默认0\n",
    "- end:获取分组匹配的子串在整个字符串中的结束位置，默认为0\n",
    "- span:返回的结构技术(start(group),end(group))"
   ]
  },
  {
   "cell_type": "code",
   "execution_count": 5,
   "metadata": {},
   "outputs": [
    {
     "name": "stdout",
     "output_type": "stream",
     "text": [
      "None\n"
     ]
    }
   ],
   "source": [
    "# 导入相关包\n",
    "import re\n",
    "\n",
    "# 查找数字\n",
    "# r表示字符串不转义\n",
    "p = re.compile(r'\\d+')\n",
    "# 在字符串中进行查找，按照规则p制订的正则进行查找\n",
    "# 返回结果是None表示没有找到，否则会返回Match对象\n",
    "m = p.match(\"one12twothree33456four78\")\n",
    "\n",
    "print(m)\n"
   ]
  },
  {
   "cell_type": "code",
   "execution_count": 6,
   "metadata": {},
   "outputs": [
    {
     "name": "stdout",
     "output_type": "stream",
     "text": [
      "<re.Match object; span=(3, 5), match='12'>\n"
     ]
    }
   ],
   "source": [
    "# 导入相关包\n",
    "import re\n",
    "\n",
    "# 查找数字\n",
    "# r表示字符串不转义\n",
    "p = re.compile(r'\\d+')\n",
    "# 在字符串中进行查找，按照规则p制订的正则进行查找\n",
    "# 返回结果是None表示没有找到，否则会返回Match对象\n",
    "m = p.match(\"one12twothree33456four78\",3,6)\n",
    "\n",
    "print(m)\n",
    "# 上述代码说明的问题\n",
    "# 1.match可以输入参数表示起始位置\n",
    "# 2.查找到的结果只包含一个，表示第一次进行匹配成功的内容"
   ]
  },
  {
   "cell_type": "code",
   "execution_count": 12,
   "metadata": {},
   "outputs": [
    {
     "name": "stdout",
     "output_type": "stream",
     "text": [
      "12\n",
      "3\n",
      "5\n"
     ]
    }
   ],
   "source": [
    "print(m[0])\n",
    "print(m.start(0))\n",
    "print(m.end(0))"
   ]
  },
  {
   "cell_type": "code",
   "execution_count": 19,
   "metadata": {},
   "outputs": [
    {
     "name": "stdout",
     "output_type": "stream",
     "text": [
      "<re.Match object; span=(0, 4), match='I am'>\n"
     ]
    }
   ],
   "source": [
    "import re \n",
    "# I 表示忽略掉大小写\n",
    "p = re.compile(r'([a-z]+) ([a-z]+)',re.I)\n",
    "\n",
    "m = p.match(\"I am chen sunxu\")\n",
    "\n",
    "print(m)"
   ]
  },
  {
   "cell_type": "code",
   "execution_count": 21,
   "metadata": {},
   "outputs": [
    {
     "name": "stdout",
     "output_type": "stream",
     "text": [
      "I am\n",
      "0\n",
      "4\n"
     ]
    }
   ],
   "source": [
    "print(m.group(0))\n",
    "print(m.start(0))\n",
    "print(m.end(0))"
   ]
  },
  {
   "cell_type": "code",
   "execution_count": 22,
   "metadata": {},
   "outputs": [
    {
     "name": "stdout",
     "output_type": "stream",
     "text": [
      "I\n",
      "0\n",
      "1\n"
     ]
    }
   ],
   "source": [
    "print(m.group(1))\n",
    "print(m.start(1))\n",
    "print(m.end(1))"
   ]
  },
  {
   "cell_type": "code",
   "execution_count": 24,
   "metadata": {},
   "outputs": [
    {
     "name": "stdout",
     "output_type": "stream",
     "text": [
      "('I', 'am')\n"
     ]
    }
   ],
   "source": [
    "print(m.groups())"
   ]
  },
  {
   "cell_type": "markdown",
   "metadata": {},
   "source": [
    "# 查找\n",
    "- search(str,[,pos[,endpos]]):字符串中查找匹配，pos和endpos表示起始位置\n",
    "- findall：查找所有\n",
    "- finditer：查找，返回一个iter结果"
   ]
  },
  {
   "cell_type": "code",
   "execution_count": 28,
   "metadata": {},
   "outputs": [
    {
     "name": "stdout",
     "output_type": "stream",
     "text": [
      "12\n"
     ]
    }
   ],
   "source": [
    "import re\n",
    "\n",
    "p = re.compile(r'\\d+')\n",
    "\n",
    "m = p.search(\"one12two34three567four\")\n",
    "\n",
    "print(m.group())"
   ]
  },
  {
   "cell_type": "code",
   "execution_count": 29,
   "metadata": {},
   "outputs": [
    {
     "name": "stdout",
     "output_type": "stream",
     "text": [
      "<class 'list'>\n",
      "['12', '34', '567']\n"
     ]
    }
   ],
   "source": [
    "rst = p.findall(\"one12two34three567four\")\n",
    "\n",
    "print(type(rst))\n",
    "\n",
    "print(rst)"
   ]
  },
  {
   "cell_type": "markdown",
   "metadata": {},
   "source": [
    "# sub替换\n",
    "- sub(rep1,str[,count])"
   ]
  },
  {
   "cell_type": "code",
   "execution_count": 31,
   "metadata": {},
   "outputs": [
    {
     "name": "stdout",
     "output_type": "stream",
     "text": [
      "heollo world heollo world sunxu,heollo world you\n"
     ]
    }
   ],
   "source": [
    "# sub 替换的案例\n",
    "import re\n",
    "\n",
    "p = re.compile(r'(\\w+) (\\w+)')\n",
    "\n",
    "s = \"heollo 123 chen 456 sunxu,i love you\"\n",
    "rst = p.sub(r'heollo world',s)\n",
    "print(rst)"
   ]
  },
  {
   "cell_type": "markdown",
   "metadata": {},
   "source": [
    "# 匹配中文\n",
    "- 大部分中文内容表示范围是[u4e00-u9fa5],不包括全角标点"
   ]
  },
  {
   "cell_type": "code",
   "execution_count": 34,
   "metadata": {},
   "outputs": [
    {
     "name": "stdout",
     "output_type": "stream",
     "text": [
      "['世界', '你好']\n"
     ]
    }
   ],
   "source": [
    "import re\n",
    "\n",
    "title = u'世界 你好，hello moto'\n",
    "\n",
    "p = re.compile(r'[\\u4e00-\\u9fa5]+')\n",
    "rst = p.findall(title)\n",
    "\n",
    "print(rst)"
   ]
  },
  {
   "cell_type": "markdown",
   "metadata": {},
   "source": [
    "# 贪婪和非贪婪\n",
    "- 贪婪：尽可能多的匹配,(*)表示贪婪\n",
    "- 非贪婪：找到符合条件的最小内容即可，(?)表示非贪婪\n",
    "- 正则默认使用贪婪匹配"
   ]
  },
  {
   "cell_type": "code",
   "execution_count": 42,
   "metadata": {},
   "outputs": [
    {
     "name": "stdout",
     "output_type": "stream",
     "text": [
      "<div>name</div><div>age</div>\n",
      "<div>name</div>\n"
     ]
    }
   ],
   "source": [
    "import re\n",
    "\n",
    "title = u'<div>name</div><div>age</div>'\n",
    "\n",
    "p1 = re.compile(r\"<div>.*</div>\")\n",
    "p2 = re.compile(r\"<div>.*?</div>\")\n",
    "\n",
    "m1 = p1.search(title)\n",
    "print(m1.group())\n",
    "\n",
    "m2 = p2.search(title)\n",
    "print(m2.group())\n",
    "\n",
    "\n",
    "\n"
   ]
  },
  {
   "cell_type": "code",
   "execution_count": null,
   "metadata": {},
   "outputs": [],
   "source": []
  }
 ],
 "metadata": {
  "kernelspec": {
   "display_name": "Python 3",
   "language": "python",
   "name": "python3"
  },
  "language_info": {
   "codemirror_mode": {
    "name": "ipython",
    "version": 3
   },
   "file_extension": ".py",
   "mimetype": "text/x-python",
   "name": "python",
   "nbconvert_exporter": "python",
   "pygments_lexer": "ipython3",
   "version": "3.7.0"
  }
 },
 "nbformat": 4,
 "nbformat_minor": 2
}
